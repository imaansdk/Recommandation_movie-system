import pandas as pd
from sklearn.feature_extraction.text import CountVectorizer
from sklearn.metrics.pairwise import cosine_similarity

# Step 1: Load the dataset
# Replace 'movie.csv' with the path to your dataset
movie_path = "C:\\Users\\User\\Documents\\INGE 2\\DATA\\tmdb_5000_movies.csv"

# Step 2: Select useful columns
movies = movies[['title', 'genres', 'keywords', 'overview']]

# Step 3: Combine features into a single string
# Fill missing values with empty strings to avoid errors
movies['combined_features'] = movies['genres'].fillna('') + ' ' + movies['keywords'].fillna('') + ' ' + movies['overview'].fillna('')
movie.head()
movie.info()

# Step 4: Convert text to a matrix of token counts
vectorizer = CountVectorizer()
feature_matrix = vectorizer.fit_transform(movies['combined_features'])

# Step 5: Compute cosine similarity
similarity_matrix = cosine_similarity(feature_matrix)

# Step 6: Create a function for recommendations
def recommend_movie(title, similarity_matrix, movies):
    try:
        movie_index = movies[movies['title'] == title].index[0]
        similar_movies = list(enumerate(similarity_matrix[movie_index]))
        sorted_movies = sorted(similar_movies, key=lambda x: x[1], reverse=True)[1:6]
        
        print(f"Movies similar to '{title}':")
        for i, (index, similarity) in enumerate(sorted_movies):
            print(f"{i + 1}. {movies.iloc[index]['title']} (Similarity: {similarity:.2f})")
    except IndexError:
        print("Movie not found in the dataset.")

 # Step 7: Test the recommendation function
recommend_movie("Avatar", similarity_matrix, movies)
